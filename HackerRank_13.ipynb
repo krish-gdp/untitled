{
 "cells": [
  {
   "cell_type": "markdown",
   "metadata": {},
   "source": [
    "## Lists"
   ]
  },
  {
   "cell_type": "code",
   "execution_count": 5,
   "metadata": {},
   "outputs": [
    {
     "name": "stdout",
     "output_type": "stream",
     "text": [
      "4\n",
      "append 1\n",
      "append 2\n",
      "insert 1 3\n",
      "print\n",
      "[1, 3, 2]\n"
     ]
    }
   ],
   "source": [
    "N = int(input())\n",
    "arr = []\n",
    "for i in range(N):\n",
    "    s = input().split()\n",
    "    for i in range(1, len(s)):\n",
    "        s[i] = int(s[i])\n",
    "        \n",
    "    if s[0] == 'append':\n",
    "        arr.append(s[1])\n",
    "    elif s[0] == 'extend':\n",
    "        arr.extend(s[1:])\n",
    "    elif s[0] == 'insert':\n",
    "        arr.insert(s[1],s[2])\n",
    "    elif s[0] == 'remove':\n",
    "        arr.remove(s[1])\n",
    "    elif s[0] == 'pop':\n",
    "        arr.pop()\n",
    "    elif s[0] == 'index':\n",
    "        print(arr.index(s[1]))\n",
    "    elif s[0] == 'count':\n",
    "        print(arr.count(s[1]))\n",
    "    elif s[0] == 'sort':\n",
    "        arr.sort()\n",
    "    elif s[0] == 'reverse':\n",
    "        arr.reverse()\n",
    "    elif s[0] == 'print':\n",
    "        print(arr)\n",
    "    else:\n",
    "        print('The function entered is Invalid.')"
   ]
  },
  {
   "cell_type": "code",
   "execution_count": null,
   "metadata": {},
   "outputs": [],
   "source": []
  }
 ],
 "metadata": {
  "kernelspec": {
   "display_name": "Python 3",
   "language": "python",
   "name": "python3"
  },
  "language_info": {
   "codemirror_mode": {
    "name": "ipython",
    "version": 3
   },
   "file_extension": ".py",
   "mimetype": "text/x-python",
   "name": "python",
   "nbconvert_exporter": "python",
   "pygments_lexer": "ipython3",
   "version": "3.8.5"
  }
 },
 "nbformat": 4,
 "nbformat_minor": 4
}
